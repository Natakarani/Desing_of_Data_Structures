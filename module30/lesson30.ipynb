{
  "nbformat": 4,
  "nbformat_minor": 0,
  "metadata": {
    "colab": {
      "provenance": [],
      "include_colab_link": true
    },
    "kernelspec": {
      "name": "python3",
      "display_name": "Python 3"
    },
    "language_info": {
      "name": "python"
    }
  },
  "cells": [
    {
      "cell_type": "markdown",
      "metadata": {
        "id": "view-in-github",
        "colab_type": "text"
      },
      "source": [
        "<a href=\"https://colab.research.google.com/github/Natakarani/Desing_of_Data_Structures/blob/main/module30/lesson30.ipynb\" target=\"_parent\"><img src=\"https://colab.research.google.com/assets/colab-badge.svg\" alt=\"Open In Colab\"/></a>"
      ]
    },
    {
      "cell_type": "markdown",
      "source": [
        " **Graph Representations & Traversals (BFS, DFS)**\n",
        "\n",
        " 🎯 **Objective**\n",
        "\n",
        "To model real-world problems involving relationships like routes, networks, and dependencies.\n",
        "\n",
        "To explore and analyze nodes (vertices) and their connections (edges) in an efficient way.\n",
        "\n",
        "To implement algorithms such as shortest path, cycle detection, topological sorting, etc.\n"
      ],
      "metadata": {
        "id": "r91LAT-bFzWN"
      }
    },
    {
      "cell_type": "markdown",
      "source": [
        "**Why Graphs and Traversals Are Needed ?**\n",
        "\n",
        "\n",
        "Graphs are essential to represent non-linear relationships between entities. They're used in:\n",
        "\n",
        "Social networks (friends, followers)\n",
        "\n",
        "Maps and GPS systems (cities and roads)\n",
        "\n",
        "Web crawlers (pages and links)\n",
        "\n",
        "Operating systems (deadlock detection)\n",
        "\n",
        "Computer networks (routers, nodes)\n",
        "\n",
        "Traversal is required to visit nodes in a specific manner to perform tasks like searching, pathfinding, cycle checking, etc.*italicized text*"
      ],
      "metadata": {
        "id": "emQbD2vGF4Xa"
      }
    },
    {
      "cell_type": "markdown",
      "source": [
        "Breadth-First Search (BFS) :\n",
        "BFS visits nodes level by level, using a queue. It is useful in finding shortest path in unweighted graphs.\n",
        "\n"
      ],
      "metadata": {
        "id": "LKYGv1ZL37sU"
      }
    },
    {
      "cell_type": "markdown",
      "source": [
        " Depth-First Search (DFS):\n",
        " ** Depth-First Search (DFS) **\n",
        "\n",
        "\n",
        " DFS visits nodes as far as possible along each branch before backtracking. It uses recursion or a stack.\n",
        "  ** why DFS needed? **\n",
        " Maze & Puzzle Solving\n",
        " Explores Deep Paths First\n",
        " Path Finding & *Backtracking*\n"
      ],
      "metadata": {
        "id": "I-ygaoMC4N-2"
      }
    },
    {
      "cell_type": "code",
      "source": [
        "# Step 1: Write C code into a file\n",
        "%%writefile dfs.c\n",
        "\n",
        "#include <stdio.h>\n",
        "#include <stdlib.h>\n",
        "\n",
        "// Node structure\n",
        "struct Node {\n",
        "    int vertex;\n",
        "    struct Node* next;\n",
        "};\n",
        "\n",
        "// Graph structure\n",
        "struct Graph {\n",
        "    int numVertices;\n",
        "    struct Node** adjLists;\n",
        "    int* visited;\n",
        "};\n",
        "\n",
        "// Create a new node\n",
        "struct Node* createNode(int v) {\n",
        "    struct Node* newNode = (struct Node*)malloc(sizeof(struct Node));\n",
        "    newNode->vertex = v;\n",
        "    newNode->next = NULL;\n",
        "    return newNode;\n",
        "}\n",
        "\n",
        "// Create a graph\n",
        "struct Graph* createGraph(int vertices) {\n",
        "    struct Graph* graph = (struct Graph*)malloc(sizeof(struct Graph));\n",
        "    graph->numVertices = vertices;\n",
        "    graph->adjLists = (struct Node**)malloc(vertices * sizeof(struct Node*));\n",
        "    graph->visited = (int*)malloc(vertices * sizeof(int));\n",
        "\n",
        "    for (int i = 0; i < vertices; i++) {\n",
        "        graph->adjLists[i] = NULL;\n",
        "        graph->visited[i] = 0;\n",
        "    }\n",
        "\n",
        "    return graph;\n",
        "}\n",
        "\n",
        "// Add edge (undirected)\n",
        "void addEdge(struct Graph* graph, int src, int dest) {\n",
        "    struct Node* newNode = createNode(dest);\n",
        "    newNode->next = graph->adjLists[src];\n",
        "    graph->adjLists[src] = newNode;\n",
        "\n",
        "    newNode = createNode(src);\n",
        "    newNode->next = graph->adjLists[dest];\n",
        "    graph->adjLists[dest] = newNode;\n",
        "}\n",
        "\n",
        "// DFS traversal\n",
        "void DFS(struct Graph* graph, int vertex) {\n",
        "    graph->visited[vertex] = 1;\n",
        "    printf(\"%d \", vertex);\n",
        "\n",
        "    struct Node* temp = graph->adjLists[vertex];\n",
        "    while (temp != NULL) {\n",
        "        int adjVertex = temp->vertex;\n",
        "        if (!graph->visited[adjVertex]) {\n",
        "            DFS(graph, adjVertex);\n",
        "        }\n",
        "        temp = temp->next;\n",
        "    }\n",
        "}\n",
        "\n",
        "// Main function\n",
        "int main() {\n",
        "    int vertices = 6;\n",
        "    struct Graph* graph = createGraph(vertices);\n",
        "\n",
        "    addEdge(graph, 0, 1);\n",
        "    addEdge(graph, 0, 2);\n",
        "    addEdge(graph, 1, 3);\n",
        "    addEdge(graph, 1, 4);\n",
        "    addEdge(graph, 2, 5);\n",
        "\n",
        "    printf(\"Depth-First Search starting from vertex 0:\\n\");\n",
        "    DFS(graph, 0);\n",
        "\n",
        "    return 0;\n",
        "}\n"
      ],
      "metadata": {
        "id": "qq8WCsnI6DvP"
      },
      "execution_count": null,
      "outputs": []
    },
    {
      "cell_type": "markdown",
      "source": [
        "**Breadth-First Search (BFS) :**\n",
        "\n",
        "Breadth-First Search (BFS) is a graph traversal algorithm that explores all the neighboring vertices (nodes) of a vertex before moving to the next level of vertices. The main goal is to visit all nodes of a graph in breadth-wise manner and find shortest paths in unweighted graphs."
      ],
      "metadata": {
        "id": "LJqu5pqJ6KvW"
      }
    },
    {
      "cell_type": "markdown",
      "source": [
        "**why BFS is needed?**\n",
        "\n",
        "You want to find the shortest path between nodes (in unweighted graphs).\n",
        "\n",
        "You need to explore all nodes at the same depth/level before moving deeper.\n",
        "\n",
        "You are solving problems in:\n",
        "\n",
        "Social networking (find mutual connections)\n",
        "\n",
        "Web crawlers (crawl nearby pages first)\n",
        "\n",
        "Routing algorithms (shortest path in unweighted graphs)\n",
        "\n",
        "AI and game theory (exploring decision trees)"
      ],
      "metadata": {
        "id": "TbVugEDY6d1d"
      }
    },
    {
      "cell_type": "code",
      "source": [
        "%%writefile bfs.c\n",
        "\n",
        "#include <stdio.h>\n",
        "#include <stdlib.h>\n",
        "\n",
        "#define SIZE 100\n",
        "\n",
        "// Node structure for adjacency list\n",
        "struct Node {\n",
        "    int vertex;\n",
        "    struct Node* next;\n",
        "};\n",
        "\n",
        "// Graph structure\n",
        "struct Graph {\n",
        "    int numVertices;\n",
        "    struct Node** adjLists;\n",
        "    int* visited;\n",
        "};\n",
        "\n",
        "// Queue for BFS\n",
        "int queue[SIZE];\n",
        "int front = -1;\n",
        "int rear = -1;\n",
        "\n",
        "void enqueue(int value) {\n",
        "    if (rear == SIZE - 1) return;\n",
        "    if (front == -1) front = 0;\n",
        "    queue[++rear] = value;\n",
        "}\n",
        "\n",
        "int dequeue() {\n",
        "    if (front == -1 || front > rear) return -1;\n",
        "    return queue[front++];\n",
        "}\n",
        "\n",
        "int isEmpty() {\n",
        "    return front == -1 || front > rear;\n",
        "}\n",
        "\n",
        "// Create a new node\n",
        "struct Node* createNode(int v) {\n",
        "    struct Node* newNode = (struct Node*)malloc(sizeof(struct Node));\n",
        "    newNode->vertex = v;\n",
        "    newNode->next = NULL;\n",
        "    return newNode;\n",
        "}\n",
        "\n",
        "// Create a graph\n",
        "struct Graph* createGraph(int vertices) {\n",
        "    struct Graph* graph = (struct Graph*)malloc(sizeof(struct Graph));\n",
        "    graph->numVertices = vertices;\n",
        "\n",
        "    graph->adjLists = (struct Node**)malloc(vertices * sizeof(struct Node*));\n",
        "    graph->visited = (int*)malloc(vertices * sizeof(int));\n",
        "\n",
        "    for (int i = 0; i < vertices; i++) {\n",
        "        graph->adjLists[i] = NULL;\n",
        "        graph->visited[i] = 0;\n",
        "    }\n",
        "\n",
        "    return graph;\n",
        "}\n",
        "\n",
        "// Add edge (undirected)\n",
        "void addEdge(struct Graph* graph, int src, int dest) {\n",
        "    struct Node* newNode = createNode(dest);\n",
        "    newNode->next = graph->adjLists[src];\n",
        "    graph->adjLists[src] = newNode;\n",
        "\n",
        "    newNode = createNode(src);\n",
        "    newNode->next = graph->adjLists[dest];\n",
        "    graph->adjLists[dest] = newNode;\n",
        "}\n",
        "\n",
        "// BFS function\n",
        "void BFS(struct Graph* graph, int startVertex) {\n",
        "    graph->visited[startVertex] = 1;\n",
        "    enqueue(startVertex);\n",
        "\n",
        "    while (!isEmpty()) {\n",
        "        int currentVertex = dequeue();\n",
        "        printf(\"%d \", currentVertex);\n",
        "\n",
        "        struct Node* temp = graph->adjLists[currentVertex];\n",
        "        while (temp) {\n",
        "            int adjVertex = temp->vertex;\n",
        "\n",
        "            if (!graph->visited[adjVertex]) {\n",
        "                graph->visited[adjVertex] = 1;\n",
        "                enqueue(adjVertex);\n",
        "            }\n",
        "\n",
        "            temp = temp->next;\n",
        "        }\n",
        "    }\n",
        "}\n",
        "\n",
        "// Main function\n",
        "int main() {\n",
        "    int vertices = 6;\n",
        "    struct Graph* graph = createGraph(vertices);\n",
        "\n",
        "    addEdge(graph, 0, 1);\n",
        "    addEdge(graph, 0, 2);\n",
        "    addEdge(graph, 1, 3);\n",
        "    addEdge(graph, 1, 4);\n",
        "    addEdge(graph, 2, 5);\n",
        "\n",
        "    printf(\"Breadth-First Search starting from vertex 0:\\n\");\n",
        "    BFS(graph, 0);\n",
        "\n",
        "    return 0;\n",
        "}\n"
      ],
      "metadata": {
        "id": "yyoOitnB6YJ6"
      },
      "execution_count": null,
      "outputs": []
    },
    {
      "cell_type": "code",
      "source": [
        "# ✅ Compile the C program\n",
        "!gcc avl.c -o avl\n"
      ],
      "metadata": {
        "id": "xaMBW5s5GD4_"
      },
      "execution_count": null,
      "outputs": []
    },
    {
      "cell_type": "code",
      "source": [
        "# ✅ Run the compiled C program\n",
        "!./avl\n"
      ],
      "metadata": {
        "id": "melbabE5GFk2",
        "outputId": "b88c72bb-6146-4c3f-f2c2-579a442c912a",
        "colab": {
          "base_uri": "https://localhost:8080/"
        }
      },
      "execution_count": null,
      "outputs": [
        {
          "output_type": "stream",
          "name": "stdout",
          "text": [
            "Inorder traversal of the AVL tree:\n",
            "10 20 25 30 40 50 "
          ]
        }
      ]
    }
  ]
}